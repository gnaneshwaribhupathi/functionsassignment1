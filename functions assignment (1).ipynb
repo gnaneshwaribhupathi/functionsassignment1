{
 "cells": [
  {
   "cell_type": "code",
   "execution_count": 1,
   "id": "2ea65c98",
   "metadata": {},
   "outputs": [],
   "source": [
    "#FUNCTIONS HOMEWORK:"
   ]
  },
  {
   "cell_type": "code",
   "execution_count": 2,
   "id": "476fce9b",
   "metadata": {},
   "outputs": [],
   "source": [
    "def f3(x,y,z):\n",
    "    if x>y and x>z:\n",
    "         print(x)\n",
    "    elif y>x and y>z:\n",
    "        print(y)\n",
    "    else:\n",
    "        print(z)\n"
   ]
  },
  {
   "cell_type": "code",
   "execution_count": 3,
   "id": "a62ac770",
   "metadata": {},
   "outputs": [
    {
     "name": "stdout",
     "output_type": "stream",
     "text": [
      "100\n"
     ]
    }
   ],
   "source": [
    "f3(100,20,30)"
   ]
  },
  {
   "cell_type": "code",
   "execution_count": 4,
   "id": "3f8a8fff",
   "metadata": {},
   "outputs": [
    {
     "name": "stdout",
     "output_type": "stream",
     "text": [
      "100\n"
     ]
    }
   ],
   "source": [
    "f3(20,30,100)"
   ]
  },
  {
   "cell_type": "code",
   "execution_count": 7,
   "id": "3c9559a8",
   "metadata": {},
   "outputs": [],
   "source": [
    "def f3(x,y,z):\n",
    "    if x<y and x<z:\n",
    "         print(x)\n",
    "    elif y<x and y<z:\n",
    "        print(y)\n",
    "    else:\n",
    "        print(z)\n"
   ]
  },
  {
   "cell_type": "code",
   "execution_count": 8,
   "id": "5097d9e8",
   "metadata": {},
   "outputs": [
    {
     "name": "stdout",
     "output_type": "stream",
     "text": [
      "10\n"
     ]
    }
   ],
   "source": [
    "f3(10,11,12)"
   ]
  },
  {
   "cell_type": "code",
   "execution_count": 9,
   "id": "4066fa08",
   "metadata": {},
   "outputs": [
    {
     "name": "stdout",
     "output_type": "stream",
     "text": [
      "10\n"
     ]
    }
   ],
   "source": [
    "f3(12,10,11)"
   ]
  },
  {
   "cell_type": "code",
   "execution_count": 4,
   "id": "dad00028",
   "metadata": {},
   "outputs": [
    {
     "name": "stdout",
     "output_type": "stream",
     "text": [
      "number of upper case letters are : 5\n",
      "number of lower case letters: 22\n"
     ]
    }
   ],
   "source": [
    "def strings(x):\n",
    "    i=0\n",
    "    l=0\n",
    "    n=0\n",
    "    while i<len(x):\n",
    "                if x[i].isupper():\n",
    "                    l=l+1 \n",
    "                elif x[i].islower():\n",
    "                    n=n+1\n",
    "                i=i+1\n",
    "    print(\"number of upper case letters are :\",l)\n",
    "    print(\"number of lower case letters:\",n)\n",
    "strings(\"MY Name is GnaneshwariBhupathi.\")"
   ]
  },
  {
   "cell_type": "code",
   "execution_count": 12,
   "id": "d26e8fc4",
   "metadata": {},
   "outputs": [],
   "source": [
    "def f2(i):\n",
    "     while i!=0:\n",
    "            if i<=100 and i>=1:\n",
    "                 print(\"in range.\")\n",
    "            else: \n",
    "                 print(\"not in range.\")\n",
    "            break\n"
   ]
  },
  {
   "cell_type": "code",
   "execution_count": 13,
   "id": "893c6fbf",
   "metadata": {},
   "outputs": [
    {
     "name": "stdout",
     "output_type": "stream",
     "text": [
      "not in range.\n"
     ]
    }
   ],
   "source": [
    "f2(201)"
   ]
  },
  {
   "cell_type": "code",
   "execution_count": 14,
   "id": "62b0809e",
   "metadata": {},
   "outputs": [
    {
     "name": "stdout",
     "output_type": "stream",
     "text": [
      "in range.\n"
     ]
    }
   ],
   "source": [
    "f2(25)"
   ]
  },
  {
   "cell_type": "code",
   "execution_count": 17,
   "id": "56df392d",
   "metadata": {},
   "outputs": [],
   "source": [
    "def f5(y):\n",
    "        if y%2!=0 and y%3!=0 and y%5!=0 and y%7!=0 :\n",
    "                            print(y, \" is prime num.\")\n",
    "        elif y==5 or y==7 or y==3 or y==2:\n",
    "                            print(y,\" is prime num.\")\n",
    "        else:\n",
    "            print(y,\" is not prime number.\")\n",
    "                            "
   ]
  },
  {
   "cell_type": "code",
   "execution_count": 18,
   "id": "c27fe478",
   "metadata": {},
   "outputs": [
    {
     "name": "stdout",
     "output_type": "stream",
     "text": [
      "2  is prime num.\n"
     ]
    }
   ],
   "source": [
    "f5(2)"
   ]
  },
  {
   "cell_type": "code",
   "execution_count": 19,
   "id": "f42032eb",
   "metadata": {},
   "outputs": [
    {
     "name": "stdout",
     "output_type": "stream",
     "text": [
      "25  is not prime number.\n"
     ]
    }
   ],
   "source": [
    "f5(25)"
   ]
  },
  {
   "cell_type": "code",
   "execution_count": 20,
   "id": "7a85a14f",
   "metadata": {},
   "outputs": [],
   "source": [
    "def palandrome(x):\n",
    "            if x==x[::-1]:\n",
    "                   print(x,\"is palandrome\")\n",
    "            else:\n",
    "                   print(x,\"is not palanadrome\")\n"
   ]
  },
  {
   "cell_type": "code",
   "execution_count": 21,
   "id": "f581249e",
   "metadata": {},
   "outputs": [
    {
     "name": "stdout",
     "output_type": "stream",
     "text": [
      "'malayalam' is palandrome\n"
     ]
    }
   ],
   "source": [
    "palandrome(\"'malayalam'\")"
   ]
  },
  {
   "cell_type": "code",
   "execution_count": 22,
   "id": "fe6ca6c0",
   "metadata": {},
   "outputs": [
    {
     "name": "stdout",
     "output_type": "stream",
     "text": [
      "'cricket' is not palanadrome\n"
     ]
    }
   ],
   "source": [
    "palandrome(\"'cricket'\")"
   ]
  },
  {
   "cell_type": "code",
   "execution_count": 23,
   "id": "78b47df3",
   "metadata": {},
   "outputs": [
    {
     "name": "stdout",
     "output_type": "stream",
     "text": [
      "'wow' is palandrome\n"
     ]
    }
   ],
   "source": [
    "palandrome(\"'wow'\")"
   ]
  },
  {
   "cell_type": "code",
   "execution_count": null,
   "id": "798e64c6",
   "metadata": {},
   "outputs": [],
   "source": []
  }
 ],
 "metadata": {
  "kernelspec": {
   "display_name": "Python 3 (ipykernel)",
   "language": "python",
   "name": "python3"
  },
  "language_info": {
   "codemirror_mode": {
    "name": "ipython",
    "version": 3
   },
   "file_extension": ".py",
   "mimetype": "text/x-python",
   "name": "python",
   "nbconvert_exporter": "python",
   "pygments_lexer": "ipython3",
   "version": "3.9.12"
  }
 },
 "nbformat": 4,
 "nbformat_minor": 5
}
